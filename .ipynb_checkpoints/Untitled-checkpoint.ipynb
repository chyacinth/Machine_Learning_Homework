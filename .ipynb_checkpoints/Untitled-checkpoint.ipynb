{
 "cells": [
  {
   "cell_type": "code",
   "execution_count": null,
   "metadata": {},
   "outputs": [],
   "source": [
    "from scipy.io import loadmat\n",
    "from numpy import linalg as LA\n",
    "import numpy as np\n",
    "from sklearn.neighbors import KNeighborsClassifier\n",
    "from PIL import Image\n",
    "from mpl_toolkits import mplot3d\n",
    "import sys\n",
    "import numpy as np\n",
    "import matplotlib.pyplot as plt\n",
    "import matplotlib\n",
    "from mpl_toolkits.mplot3d import Axes3D\n",
    "\n",
    "# ./hw1_batch  M training size\n",
    "# M is Eigen Vector Size\n",
    "M = int(sys.argv[1])\n",
    "# Data Point Size\n",
    "KNN_point_size = int(sys.argv[2])\n",
    "print(\"({},{})\".format(M, KNN_point_size))\n",
    "\n",
    "# print(\"Configuration\", end=\"...    \")\n",
    "# K for KNN\n",
    "K = 5\n",
    "testing_set_size = 10000;\n",
    "training_set_size = 60000\n",
    "\n",
    "# print(\"Read data\", end=\"...    \")\n",
    "x = loadmat('digits.mat')\n",
    "test_imgs = x['testImages']\n",
    "train_imgs = x['trainImages']\n",
    "test_labels = x['testLabels']\n",
    "train_labels = x['trainLabels']\n",
    "test_imgs = test_imgs.reshape(784, 10000)\n",
    "train_imgs = train_imgs.reshape(784, 60000)\n",
    "train_imgs = train_imgs[:, :training_set_size]"
   ]
  }
 ],
 "metadata": {
  "kernelspec": {
   "display_name": "Python 3",
   "language": "python",
   "name": "python3"
  },
  "language_info": {
   "codemirror_mode": {
    "name": "ipython",
    "version": 3
   },
   "file_extension": ".py",
   "mimetype": "text/x-python",
   "name": "python",
   "nbconvert_exporter": "python",
   "pygments_lexer": "ipython3",
   "version": "3.6.6"
  }
 },
 "nbformat": 4,
 "nbformat_minor": 2
}
