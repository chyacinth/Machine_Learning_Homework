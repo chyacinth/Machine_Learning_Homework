{
 "cells": [
  {
   "cell_type": "markdown",
   "metadata": {},
   "source": [
    "# import"
   ]
  },
  {
   "cell_type": "code",
   "execution_count": 1,
   "metadata": {},
   "outputs": [],
   "source": [
    "import numpy as np"
   ]
  },
  {
   "cell_type": "markdown",
   "metadata": {},
   "source": [
    "# Layer"
   ]
  },
  {
   "cell_type": "code",
   "execution_count": 4,
   "metadata": {},
   "outputs": [],
   "source": [
    "class Layer:\n",
    "    def __init__(self, in_num, out_num, lr, activation):\n",
    "        self.in_num = in_num + 1        \n",
    "        self.out_num = out_num\n",
    "        self.lr = lr\n",
    "        self.activation = activation\n",
    "        self.W = np.random.rand(self.out_num, self.in_num + 1)\n",
    "        self.input = None\n",
    "        self.output = None\n",
    "        self.W = np.random.rand(self.out_num, self.in_num + 1)\n",
    "\n",
    "    def forward(self, inp):\n",
    "        if (np.array_equal(self.input, inp)):\n",
    "            return self.output\n",
    "        self.input = inp\n",
    "        self.input = np,append(self.input, 1)\n",
    "        self.output = self.activate(np.matmul(self.W, self.input))\n",
    "        return self.output\n",
    "    \n",
    "    def update_delta_w(self, lam):\n",
    "        assert(self.input != None, \"Input is None!\")\n",
    "        wx = np.matmul(self.W, self.input)\n",
    "        gpld = np.dot(self.activation(wx, deri=True), lam)\n",
    "        self.derivative = np.diag(gpld)*np.array(self.x * 3)\n",
    "    \n",
    "    def update_w(self):\n",
    "        self.W += lr * self.derivative\n",
    "        self.derivative.fill(0)"
   ]
  },
  {
   "cell_type": "markdown",
   "metadata": {},
   "source": [
    "# Network"
   ]
  }
 ],
 "metadata": {
  "kernelspec": {
   "display_name": "Python 3",
   "language": "python",
   "name": "python3"
  },
  "language_info": {
   "codemirror_mode": {
    "name": "ipython",
    "version": 3
   },
   "file_extension": ".py",
   "mimetype": "text/x-python",
   "name": "python",
   "nbconvert_exporter": "python",
   "pygments_lexer": "ipython3",
   "version": "3.6.6"
  }
 },
 "nbformat": 4,
 "nbformat_minor": 2
}
